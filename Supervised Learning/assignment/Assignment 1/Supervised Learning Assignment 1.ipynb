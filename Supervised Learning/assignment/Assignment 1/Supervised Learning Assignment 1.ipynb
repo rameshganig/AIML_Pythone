{
 "cells": [
  {
   "cell_type": "markdown",
   "id": "incorporate-lease",
   "metadata": {},
   "source": [
    "Assignment Expectations/Steps -\n",
    "\n",
    "1. Import and store the data in a data frame."
   ]
  },
  {
   "cell_type": "code",
   "execution_count": 154,
   "id": "every-elimination",
   "metadata": {},
   "outputs": [],
   "source": [
    "#%matplotlib inline\n",
    "\n",
    "#import numpy as np\n",
    "import pandas as pd\n",
    "\n",
    "import matplotlib.pyplot as plt\n",
    "\n",
    "import seaborn as sns\n",
    "\n",
    "from sklearn.model_selection import train_test_split\n",
    "\n",
    "from sklearn.linear_model import LinearRegression"
   ]
  },
  {
   "cell_type": "code",
   "execution_count": 155,
   "id": "informed-moore",
   "metadata": {},
   "outputs": [],
   "source": [
    "#air_df=pd.read_csv('./airq402.csv', names=[\"City1\", \"City2\", \"AVG_Fare\", \"Distance\", \"AVG_Pansanger\", \"H_Airline\", \"H_Mkt_share\",\"H_AVG_Fare\", \"L_Airline\", \"L_Mkt_share\", \"L_price\"])"
   ]
  },
  {
   "cell_type": "code",
   "execution_count": 172,
   "id": "municipal-combat",
   "metadata": {},
   "outputs": [],
   "source": [
    "air_df=pd.read_csv('./airq402.csv')"
   ]
  },
  {
   "cell_type": "code",
   "execution_count": 173,
   "id": "sharing-haven",
   "metadata": {},
   "outputs": [
    {
     "data": {
      "text/html": [
       "<div>\n",
       "<style scoped>\n",
       "    .dataframe tbody tr th:only-of-type {\n",
       "        vertical-align: middle;\n",
       "    }\n",
       "\n",
       "    .dataframe tbody tr th {\n",
       "        vertical-align: top;\n",
       "    }\n",
       "\n",
       "    .dataframe thead th {\n",
       "        text-align: right;\n",
       "    }\n",
       "</style>\n",
       "<table border=\"1\" class=\"dataframe\">\n",
       "  <thead>\n",
       "    <tr style=\"text-align: right;\">\n",
       "      <th></th>\n",
       "      <th>City1</th>\n",
       "      <th>City2</th>\n",
       "      <th>Average Fare</th>\n",
       "      <th>Distance</th>\n",
       "      <th>Average weekly passengers</th>\n",
       "      <th>market leading airline</th>\n",
       "      <th>market share</th>\n",
       "      <th>Average fare</th>\n",
       "      <th>Low price airline</th>\n",
       "      <th>market share.1</th>\n",
       "      <th>Price</th>\n",
       "    </tr>\n",
       "  </thead>\n",
       "  <tbody>\n",
       "    <tr>\n",
       "      <th>0</th>\n",
       "      <td>CAK</td>\n",
       "      <td>ATL</td>\n",
       "      <td>114.47</td>\n",
       "      <td>528</td>\n",
       "      <td>424.56</td>\n",
       "      <td>FL</td>\n",
       "      <td>70.19</td>\n",
       "      <td>111.03</td>\n",
       "      <td>FL</td>\n",
       "      <td>70.19</td>\n",
       "      <td>111.03</td>\n",
       "    </tr>\n",
       "    <tr>\n",
       "      <th>1</th>\n",
       "      <td>CAK</td>\n",
       "      <td>MCO</td>\n",
       "      <td>122.47</td>\n",
       "      <td>860</td>\n",
       "      <td>276.84</td>\n",
       "      <td>FL</td>\n",
       "      <td>75.10</td>\n",
       "      <td>123.09</td>\n",
       "      <td>DL</td>\n",
       "      <td>17.23</td>\n",
       "      <td>118.94</td>\n",
       "    </tr>\n",
       "    <tr>\n",
       "      <th>2</th>\n",
       "      <td>ALB</td>\n",
       "      <td>ATL</td>\n",
       "      <td>214.42</td>\n",
       "      <td>852</td>\n",
       "      <td>215.76</td>\n",
       "      <td>DL</td>\n",
       "      <td>78.89</td>\n",
       "      <td>223.98</td>\n",
       "      <td>CO</td>\n",
       "      <td>2.77</td>\n",
       "      <td>167.12</td>\n",
       "    </tr>\n",
       "    <tr>\n",
       "      <th>3</th>\n",
       "      <td>ALB</td>\n",
       "      <td>BWI</td>\n",
       "      <td>69.40</td>\n",
       "      <td>288</td>\n",
       "      <td>606.84</td>\n",
       "      <td>WN</td>\n",
       "      <td>96.97</td>\n",
       "      <td>68.86</td>\n",
       "      <td>WN</td>\n",
       "      <td>96.97</td>\n",
       "      <td>68.86</td>\n",
       "    </tr>\n",
       "    <tr>\n",
       "      <th>4</th>\n",
       "      <td>ALB</td>\n",
       "      <td>ORD</td>\n",
       "      <td>158.13</td>\n",
       "      <td>723</td>\n",
       "      <td>313.04</td>\n",
       "      <td>UA</td>\n",
       "      <td>39.79</td>\n",
       "      <td>161.36</td>\n",
       "      <td>WN</td>\n",
       "      <td>15.34</td>\n",
       "      <td>145.42</td>\n",
       "    </tr>\n",
       "  </tbody>\n",
       "</table>\n",
       "</div>"
      ],
      "text/plain": [
       "  City1 City2  Average Fare  Distance  Average weekly passengers  \\\n",
       "0   CAK   ATL        114.47       528                     424.56   \n",
       "1   CAK   MCO        122.47       860                     276.84   \n",
       "2   ALB   ATL        214.42       852                     215.76   \n",
       "3   ALB   BWI         69.40       288                     606.84   \n",
       "4   ALB   ORD        158.13       723                     313.04   \n",
       "\n",
       "  market leading airline  market share  Average fare Low price airline  \\\n",
       "0                     FL         70.19        111.03                FL   \n",
       "1                     FL         75.10        123.09                DL   \n",
       "2                     DL         78.89        223.98                CO   \n",
       "3                     WN         96.97         68.86                WN   \n",
       "4                     UA         39.79        161.36                WN   \n",
       "\n",
       "   market share.1   Price  \n",
       "0           70.19  111.03  \n",
       "1           17.23  118.94  \n",
       "2            2.77  167.12  \n",
       "3           96.97   68.86  \n",
       "4           15.34  145.42  "
      ]
     },
     "execution_count": 173,
     "metadata": {},
     "output_type": "execute_result"
    }
   ],
   "source": [
    "air_df.head()"
   ]
  },
  {
   "cell_type": "code",
   "execution_count": 175,
   "id": "adjacent-captain",
   "metadata": {},
   "outputs": [
    {
     "data": {
      "text/html": [
       "<div>\n",
       "<style scoped>\n",
       "    .dataframe tbody tr th:only-of-type {\n",
       "        vertical-align: middle;\n",
       "    }\n",
       "\n",
       "    .dataframe tbody tr th {\n",
       "        vertical-align: top;\n",
       "    }\n",
       "\n",
       "    .dataframe thead th {\n",
       "        text-align: right;\n",
       "    }\n",
       "</style>\n",
       "<table border=\"1\" class=\"dataframe\">\n",
       "  <thead>\n",
       "    <tr style=\"text-align: right;\">\n",
       "      <th></th>\n",
       "      <th>City1</th>\n",
       "      <th>City2</th>\n",
       "      <th>Average Fare</th>\n",
       "      <th>Distance</th>\n",
       "      <th>Average weekly passengers</th>\n",
       "      <th>Market leading airline</th>\n",
       "      <th>Market share - leading</th>\n",
       "      <th>Average fare - leading</th>\n",
       "      <th>Low price airline</th>\n",
       "      <th>Market share - low price</th>\n",
       "      <th>Average fare - low price</th>\n",
       "    </tr>\n",
       "  </thead>\n",
       "  <tbody>\n",
       "    <tr>\n",
       "      <th>0</th>\n",
       "      <td>CAK</td>\n",
       "      <td>ATL</td>\n",
       "      <td>114.47</td>\n",
       "      <td>528</td>\n",
       "      <td>424.56</td>\n",
       "      <td>FL</td>\n",
       "      <td>70.19</td>\n",
       "      <td>111.03</td>\n",
       "      <td>FL</td>\n",
       "      <td>70.19</td>\n",
       "      <td>111.03</td>\n",
       "    </tr>\n",
       "    <tr>\n",
       "      <th>1</th>\n",
       "      <td>CAK</td>\n",
       "      <td>MCO</td>\n",
       "      <td>122.47</td>\n",
       "      <td>860</td>\n",
       "      <td>276.84</td>\n",
       "      <td>FL</td>\n",
       "      <td>75.10</td>\n",
       "      <td>123.09</td>\n",
       "      <td>DL</td>\n",
       "      <td>17.23</td>\n",
       "      <td>118.94</td>\n",
       "    </tr>\n",
       "    <tr>\n",
       "      <th>2</th>\n",
       "      <td>ALB</td>\n",
       "      <td>ATL</td>\n",
       "      <td>214.42</td>\n",
       "      <td>852</td>\n",
       "      <td>215.76</td>\n",
       "      <td>DL</td>\n",
       "      <td>78.89</td>\n",
       "      <td>223.98</td>\n",
       "      <td>CO</td>\n",
       "      <td>2.77</td>\n",
       "      <td>167.12</td>\n",
       "    </tr>\n",
       "    <tr>\n",
       "      <th>3</th>\n",
       "      <td>ALB</td>\n",
       "      <td>BWI</td>\n",
       "      <td>69.40</td>\n",
       "      <td>288</td>\n",
       "      <td>606.84</td>\n",
       "      <td>WN</td>\n",
       "      <td>96.97</td>\n",
       "      <td>68.86</td>\n",
       "      <td>WN</td>\n",
       "      <td>96.97</td>\n",
       "      <td>68.86</td>\n",
       "    </tr>\n",
       "    <tr>\n",
       "      <th>4</th>\n",
       "      <td>ALB</td>\n",
       "      <td>ORD</td>\n",
       "      <td>158.13</td>\n",
       "      <td>723</td>\n",
       "      <td>313.04</td>\n",
       "      <td>UA</td>\n",
       "      <td>39.79</td>\n",
       "      <td>161.36</td>\n",
       "      <td>WN</td>\n",
       "      <td>15.34</td>\n",
       "      <td>145.42</td>\n",
       "    </tr>\n",
       "  </tbody>\n",
       "</table>\n",
       "</div>"
      ],
      "text/plain": [
       "  City1 City2  Average Fare  Distance  Average weekly passengers  \\\n",
       "0   CAK   ATL        114.47       528                     424.56   \n",
       "1   CAK   MCO        122.47       860                     276.84   \n",
       "2   ALB   ATL        214.42       852                     215.76   \n",
       "3   ALB   BWI         69.40       288                     606.84   \n",
       "4   ALB   ORD        158.13       723                     313.04   \n",
       "\n",
       "  Market leading airline  Market share - leading  Average fare - leading  \\\n",
       "0                     FL                   70.19                  111.03   \n",
       "1                     FL                   75.10                  123.09   \n",
       "2                     DL                   78.89                  223.98   \n",
       "3                     WN                   96.97                   68.86   \n",
       "4                     UA                   39.79                  161.36   \n",
       "\n",
       "  Low price airline  Market share - low price  Average fare - low price  \n",
       "0                FL                     70.19                    111.03  \n",
       "1                DL                     17.23                    118.94  \n",
       "2                CO                      2.77                    167.12  \n",
       "3                WN                     96.97                     68.86  \n",
       "4                WN                     15.34                    145.42  "
      ]
     },
     "execution_count": 175,
     "metadata": {},
     "output_type": "execute_result"
    }
   ],
   "source": [
    "# Renaming the column names because column names are same for multiple columns\n",
    "air_df.rename(columns={'market leading airline':'Market leading airline',\n",
    "'market share':'Market share - leading',\n",
    "'Average fare':'Average fare - leading',\n",
    "'market share.1':'Market share - low price',\n",
    "'Price':'Average fare - low price'}, inplace=True)\n",
    "\n",
    "air_df.head()"
   ]
  },
  {
   "cell_type": "code",
   "execution_count": 176,
   "id": "miniature-participation",
   "metadata": {},
   "outputs": [
    {
     "data": {
      "text/html": [
       "<div>\n",
       "<style scoped>\n",
       "    .dataframe tbody tr th:only-of-type {\n",
       "        vertical-align: middle;\n",
       "    }\n",
       "\n",
       "    .dataframe tbody tr th {\n",
       "        vertical-align: top;\n",
       "    }\n",
       "\n",
       "    .dataframe thead th {\n",
       "        text-align: right;\n",
       "    }\n",
       "</style>\n",
       "<table border=\"1\" class=\"dataframe\">\n",
       "  <thead>\n",
       "    <tr style=\"text-align: right;\">\n",
       "      <th></th>\n",
       "      <th>City1</th>\n",
       "      <th>City2</th>\n",
       "      <th>Average Fare</th>\n",
       "      <th>Distance</th>\n",
       "      <th>Average weekly passengers</th>\n",
       "      <th>Market leading airline</th>\n",
       "      <th>Market share - leading</th>\n",
       "      <th>Average fare - leading</th>\n",
       "      <th>Low price airline</th>\n",
       "      <th>Market share - low price</th>\n",
       "      <th>Average fare - low price</th>\n",
       "    </tr>\n",
       "  </thead>\n",
       "  <tbody>\n",
       "  </tbody>\n",
       "</table>\n",
       "</div>"
      ],
      "text/plain": [
       "Empty DataFrame\n",
       "Columns: [City1, City2, Average Fare, Distance, Average weekly passengers, Market leading airline, Market share - leading, Average fare - leading, Low price airline, Market share - low price, Average fare - low price]\n",
       "Index: []"
      ]
     },
     "execution_count": 176,
     "metadata": {},
     "output_type": "execute_result"
    }
   ],
   "source": [
    "air_df[air_df.isna().any(axis=1)]"
   ]
  },
  {
   "cell_type": "code",
   "execution_count": 178,
   "id": "removable-course",
   "metadata": {},
   "outputs": [],
   "source": [
    "# Droping categorical columns\n",
    "\n",
    "air_df=air_df.drop(['City1', 'City2', 'Market leading airline', 'Low price airline'], axis=1)"
   ]
  },
  {
   "cell_type": "markdown",
   "id": "statewide-culture",
   "metadata": {},
   "source": [
    "2. Remove the outliers from the data "
   ]
  },
  {
   "cell_type": "code",
   "execution_count": 179,
   "id": "earned-former",
   "metadata": {},
   "outputs": [
    {
     "data": {
      "text/html": [
       "<div>\n",
       "<style scoped>\n",
       "    .dataframe tbody tr th:only-of-type {\n",
       "        vertical-align: middle;\n",
       "    }\n",
       "\n",
       "    .dataframe tbody tr th {\n",
       "        vertical-align: top;\n",
       "    }\n",
       "\n",
       "    .dataframe thead th {\n",
       "        text-align: right;\n",
       "    }\n",
       "</style>\n",
       "<table border=\"1\" class=\"dataframe\">\n",
       "  <thead>\n",
       "    <tr style=\"text-align: right;\">\n",
       "      <th></th>\n",
       "      <th>count</th>\n",
       "      <th>mean</th>\n",
       "      <th>std</th>\n",
       "      <th>min</th>\n",
       "      <th>25%</th>\n",
       "      <th>50%</th>\n",
       "      <th>75%</th>\n",
       "      <th>max</th>\n",
       "    </tr>\n",
       "  </thead>\n",
       "  <tbody>\n",
       "    <tr>\n",
       "      <th>Average Fare</th>\n",
       "      <td>1000.0</td>\n",
       "      <td>163.37542</td>\n",
       "      <td>55.365470</td>\n",
       "      <td>50.52</td>\n",
       "      <td>125.9750</td>\n",
       "      <td>161.345</td>\n",
       "      <td>197.3925</td>\n",
       "      <td>401.23</td>\n",
       "    </tr>\n",
       "    <tr>\n",
       "      <th>Distance</th>\n",
       "      <td>1000.0</td>\n",
       "      <td>1056.97300</td>\n",
       "      <td>643.203251</td>\n",
       "      <td>108.00</td>\n",
       "      <td>553.5000</td>\n",
       "      <td>919.000</td>\n",
       "      <td>1452.5000</td>\n",
       "      <td>2724.00</td>\n",
       "    </tr>\n",
       "    <tr>\n",
       "      <th>Average weekly passengers</th>\n",
       "      <td>1000.0</td>\n",
       "      <td>672.27914</td>\n",
       "      <td>766.519254</td>\n",
       "      <td>181.41</td>\n",
       "      <td>257.1975</td>\n",
       "      <td>404.780</td>\n",
       "      <td>769.9125</td>\n",
       "      <td>8950.76</td>\n",
       "    </tr>\n",
       "    <tr>\n",
       "      <th>Market share - leading</th>\n",
       "      <td>1000.0</td>\n",
       "      <td>60.12859</td>\n",
       "      <td>19.367779</td>\n",
       "      <td>17.68</td>\n",
       "      <td>46.5100</td>\n",
       "      <td>59.240</td>\n",
       "      <td>73.5100</td>\n",
       "      <td>100.00</td>\n",
       "    </tr>\n",
       "    <tr>\n",
       "      <th>Average fare - leading</th>\n",
       "      <td>1000.0</td>\n",
       "      <td>166.64756</td>\n",
       "      <td>62.660140</td>\n",
       "      <td>50.52</td>\n",
       "      <td>124.0850</td>\n",
       "      <td>161.400</td>\n",
       "      <td>202.9775</td>\n",
       "      <td>490.03</td>\n",
       "    </tr>\n",
       "    <tr>\n",
       "      <th>Market share - low price</th>\n",
       "      <td>1000.0</td>\n",
       "      <td>34.55148</td>\n",
       "      <td>27.096999</td>\n",
       "      <td>1.06</td>\n",
       "      <td>13.1950</td>\n",
       "      <td>26.140</td>\n",
       "      <td>52.9725</td>\n",
       "      <td>100.00</td>\n",
       "    </tr>\n",
       "    <tr>\n",
       "      <th>Average fare - low price</th>\n",
       "      <td>1000.0</td>\n",
       "      <td>143.19309</td>\n",
       "      <td>47.229184</td>\n",
       "      <td>49.61</td>\n",
       "      <td>113.7675</td>\n",
       "      <td>137.825</td>\n",
       "      <td>168.5300</td>\n",
       "      <td>387.94</td>\n",
       "    </tr>\n",
       "  </tbody>\n",
       "</table>\n",
       "</div>"
      ],
      "text/plain": [
       "                            count        mean         std     min       25%  \\\n",
       "Average Fare               1000.0   163.37542   55.365470   50.52  125.9750   \n",
       "Distance                   1000.0  1056.97300  643.203251  108.00  553.5000   \n",
       "Average weekly passengers  1000.0   672.27914  766.519254  181.41  257.1975   \n",
       "Market share - leading     1000.0    60.12859   19.367779   17.68   46.5100   \n",
       "Average fare - leading     1000.0   166.64756   62.660140   50.52  124.0850   \n",
       "Market share - low price   1000.0    34.55148   27.096999    1.06   13.1950   \n",
       "Average fare - low price   1000.0   143.19309   47.229184   49.61  113.7675   \n",
       "\n",
       "                               50%        75%      max  \n",
       "Average Fare               161.345   197.3925   401.23  \n",
       "Distance                   919.000  1452.5000  2724.00  \n",
       "Average weekly passengers  404.780   769.9125  8950.76  \n",
       "Market share - leading      59.240    73.5100   100.00  \n",
       "Average fare - leading     161.400   202.9775   490.03  \n",
       "Market share - low price    26.140    52.9725   100.00  \n",
       "Average fare - low price   137.825   168.5300   387.94  "
      ]
     },
     "execution_count": 179,
     "metadata": {},
     "output_type": "execute_result"
    }
   ],
   "source": [
    "air_df.describe().T"
   ]
  },
  {
   "cell_type": "code",
   "execution_count": 180,
   "id": "renewable-forward",
   "metadata": {},
   "outputs": [
    {
     "data": {
      "text/plain": [
       "<function matplotlib.pyplot.show(close=None, block=None)>"
      ]
     },
     "execution_count": 180,
     "metadata": {},
     "output_type": "execute_result"
    },
    {
     "data": {
      "image/png": "[encoded data removed]",
      "text/plain": [
       "<Figure size 432x288 with 7 Axes>"
      ]
     },
     "metadata": {
      "needs_background": "light"
     },
     "output_type": "display_data"
    }
   ],
   "source": [
    "# plotting boxplot to check the outliers\n",
    "\n",
    "fig, axes = plt.subplots(3,3)# creat figure and axes\n",
    "\n",
    "for i, el in enumerate (list(air_df.columns.values[:])):\n",
    "    a=air_df.boxplot(el, ax=axes.flatten()[i])\n",
    "    \n",
    "fig.delaxes(axes[2,1])\n",
    "fig.delaxes(axes[2,2])\n",
    "\n",
    "plt.tight_layout()\n",
    "plt.show\n"
   ]
  },
  {
   "cell_type": "markdown",
   "id": "amazing-treasury",
   "metadata": {},
   "source": [
    "To determine whether data contains an outlier:\n",
    "    Identify the point furthest from the mean of the data.\n",
    "    Determine whether that point is further than 1.5*IQR away from the mean.\n",
    "    If so, that point is an outlier and should be eliminated from the data resulting in a new set of data.\n",
    "    Repeat steps to determine if new data set contains an outlier until dataset no longer contains outlier.\n",
    "    \n",
    "    IQR (Interquartile Range) = Third Quartile (Q3)- First Quratile (Q1)\n",
    "    \n",
    "    To find an outlier by hand:\n",
    "Data: [ 53 55 51 50 60 52 ] we will check for outliers.\n",
    "\n",
    "Sorted: [ 50 51 52 53 55 60 ] where the mean is 53.5 and 60 is the furthest away (60-53.5 > 53.5-50).\n",
    "\n",
    "1.5 * IQR = 1.5 * (55-51) = 6\n",
    "\n",
    "Since 60-53.5 = 6.5 > 6, 60 is an outlier.\n",
    "\n",
    "New Data: [ 53 55 51 50 52 ] we will check for outliers.\n",
    "\n",
    "New Data Sorted: [ 50 51 52 53 55 ] where the mean is 52.2 and 55 is the furthest away.\n",
    "\n",
    "1.5* IQR = 1.5 * (54-50.5) = 4.5\n",
    "\n",
    "Since 55-52.2 = 2.8 < 4.5, 55 is NOT an outlier.\n",
    "\n",
    "Our original data had one outlier, which was 60.\n",
    "\n",
    "Example:\n",
    "Input data = [53 55 51 50 60 52]\n",
    "\n",
    "Output new_data = [53 55 51 50 52]\n",
    "    "
   ]
  },
  {
   "cell_type": "code",
   "execution_count": 195,
   "id": "optical-dress",
   "metadata": {},
   "outputs": [
    {
     "name": "stdout",
     "output_type": "stream",
     "text": [
      "(1000, 7)\n",
      "Without outlers (885, 7)\n"
     ]
    },
    {
     "data": {
      "text/html": [
       "<div>\n",
       "<style scoped>\n",
       "    .dataframe tbody tr th:only-of-type {\n",
       "        vertical-align: middle;\n",
       "    }\n",
       "\n",
       "    .dataframe tbody tr th {\n",
       "        vertical-align: top;\n",
       "    }\n",
       "\n",
       "    .dataframe thead th {\n",
       "        text-align: right;\n",
       "    }\n",
       "</style>\n",
       "<table border=\"1\" class=\"dataframe\">\n",
       "  <thead>\n",
       "    <tr style=\"text-align: right;\">\n",
       "      <th></th>\n",
       "      <th>count</th>\n",
       "      <th>mean</th>\n",
       "      <th>std</th>\n",
       "      <th>min</th>\n",
       "      <th>25%</th>\n",
       "      <th>50%</th>\n",
       "      <th>75%</th>\n",
       "      <th>max</th>\n",
       "    </tr>\n",
       "  </thead>\n",
       "  <tbody>\n",
       "    <tr>\n",
       "      <th>Average Fare</th>\n",
       "      <td>885.0</td>\n",
       "      <td>160.292068</td>\n",
       "      <td>48.468895</td>\n",
       "      <td>50.52</td>\n",
       "      <td>126.60</td>\n",
       "      <td>160.71</td>\n",
       "      <td>194.05</td>\n",
       "      <td>288.58</td>\n",
       "    </tr>\n",
       "    <tr>\n",
       "      <th>Distance</th>\n",
       "      <td>885.0</td>\n",
       "      <td>1039.383051</td>\n",
       "      <td>615.224361</td>\n",
       "      <td>108.00</td>\n",
       "      <td>564.00</td>\n",
       "      <td>914.00</td>\n",
       "      <td>1381.00</td>\n",
       "      <td>2724.00</td>\n",
       "    </tr>\n",
       "    <tr>\n",
       "      <th>Average weekly passengers</th>\n",
       "      <td>885.0</td>\n",
       "      <td>499.132644</td>\n",
       "      <td>327.573566</td>\n",
       "      <td>181.41</td>\n",
       "      <td>249.02</td>\n",
       "      <td>372.93</td>\n",
       "      <td>644.56</td>\n",
       "      <td>1519.89</td>\n",
       "    </tr>\n",
       "    <tr>\n",
       "      <th>Market share - leading</th>\n",
       "      <td>885.0</td>\n",
       "      <td>60.636938</td>\n",
       "      <td>19.361447</td>\n",
       "      <td>17.68</td>\n",
       "      <td>47.02</td>\n",
       "      <td>59.75</td>\n",
       "      <td>74.66</td>\n",
       "      <td>100.00</td>\n",
       "    </tr>\n",
       "    <tr>\n",
       "      <th>Average fare - leading</th>\n",
       "      <td>885.0</td>\n",
       "      <td>162.589051</td>\n",
       "      <td>53.288002</td>\n",
       "      <td>50.52</td>\n",
       "      <td>125.59</td>\n",
       "      <td>160.74</td>\n",
       "      <td>198.47</td>\n",
       "      <td>315.86</td>\n",
       "    </tr>\n",
       "    <tr>\n",
       "      <th>Market share - low price</th>\n",
       "      <td>885.0</td>\n",
       "      <td>34.373028</td>\n",
       "      <td>27.183305</td>\n",
       "      <td>1.06</td>\n",
       "      <td>13.06</td>\n",
       "      <td>26.25</td>\n",
       "      <td>52.93</td>\n",
       "      <td>100.00</td>\n",
       "    </tr>\n",
       "    <tr>\n",
       "      <th>Average fare - low price</th>\n",
       "      <td>885.0</td>\n",
       "      <td>140.431073</td>\n",
       "      <td>39.849789</td>\n",
       "      <td>50.52</td>\n",
       "      <td>115.11</td>\n",
       "      <td>138.02</td>\n",
       "      <td>166.26</td>\n",
       "      <td>250.02</td>\n",
       "    </tr>\n",
       "  </tbody>\n",
       "</table>\n",
       "</div>"
      ],
      "text/plain": [
       "                           count         mean         std     min     25%  \\\n",
       "Average Fare               885.0   160.292068   48.468895   50.52  126.60   \n",
       "Distance                   885.0  1039.383051  615.224361  108.00  564.00   \n",
       "Average weekly passengers  885.0   499.132644  327.573566  181.41  249.02   \n",
       "Market share - leading     885.0    60.636938   19.361447   17.68   47.02   \n",
       "Average fare - leading     885.0   162.589051   53.288002   50.52  125.59   \n",
       "Market share - low price   885.0    34.373028   27.183305    1.06   13.06   \n",
       "Average fare - low price   885.0   140.431073   39.849789   50.52  115.11   \n",
       "\n",
       "                              50%      75%      max  \n",
       "Average Fare               160.71   194.05   288.58  \n",
       "Distance                   914.00  1381.00  2724.00  \n",
       "Average weekly passengers  372.93   644.56  1519.89  \n",
       "Market share - leading      59.75    74.66   100.00  \n",
       "Average fare - leading     160.74   198.47   315.86  \n",
       "Market share - low price    26.25    52.93   100.00  \n",
       "Average fare - low price   138.02   166.26   250.02  "
      ]
     },
     "execution_count": 195,
     "metadata": {},
     "output_type": "execute_result"
    }
   ],
   "source": [
    "#Removing the Outliers and assigning it to new dataframe\n",
    "\n",
    "Q1= air_df.quantile(0.25)\n",
    "Q3= air_df.quantile(0.75)\n",
    "\n",
    "\n",
    "IQR=Q3-Q1\n",
    "\n",
    "air_df_new=air_df[~((air_df < (Q1-1.5*IQR) ) | (air_df > (Q3 + 1.5*IQR))).any(axis=1)]\n",
    "\n",
    "print (air_df.shape)\n",
    "print ('Without outlers {}'.format(air_df_new.shape))\n",
    "\n",
    "air_df_new.describe().T"
   ]
  },
  {
   "cell_type": "markdown",
   "id": "available-lobby",
   "metadata": {},
   "source": [
    "3. Treat “Average Fare” – 3rdColumn as your Dependent Variable and Rest of the columns as Independent Variable and split the table. (3 points)\n",
    "4. Drop the independent variables which has less than 0.1 correlation with the dependent variable (5 points)"
   ]
  },
  {
   "cell_type": "code",
   "execution_count": 218,
   "id": "terminal-florist",
   "metadata": {},
   "outputs": [
    {
     "data": {
      "text/plain": [
       "Average Fare    float64\n",
       "dtype: object"
      ]
     },
     "execution_count": 218,
     "metadata": {},
     "output_type": "execute_result"
    }
   ],
   "source": [
    "X= air_df_new.drop('Average Fare', axis=1)\n",
    "y= air_df_new[['Average Fare']]\n",
    "\n"
   ]
  },
  {
   "cell_type": "code",
   "execution_count": 197,
   "id": "illegal-brick",
   "metadata": {},
   "outputs": [
    {
     "data": {
      "text/plain": [
       "Distance                     0.522650\n",
       "Average weekly passengers   -0.197005\n",
       "Market share - leading      -0.207955\n",
       "Average fare - leading       0.979713\n",
       "Market share - low price    -0.493555\n",
       "Average fare - low price     0.840993\n",
       "Name: Average Fare, dtype: float64"
      ]
     },
     "execution_count": 197,
     "metadata": {},
     "output_type": "execute_result"
    }
   ],
   "source": [
    "# Finding the correlation Between Dependent Variable and Independent Variable\n",
    "\n",
    "air_df_corr= air_df_new.corr()\n",
    "air_df_corr.loc['Average Fare', 'Distance':]"
   ]
  },
  {
   "cell_type": "markdown",
   "id": "velvet-following",
   "metadata": {},
   "source": [
    "# Scenario 1 - Considering .1 as positive and negative correlation, there is no Independent variables which is between -0.1 and +0.1"
   ]
  },
  {
   "cell_type": "code",
   "execution_count": 198,
   "id": "sensitive-writing",
   "metadata": {},
   "outputs": [
    {
     "data": {
      "text/plain": [
       "LinearRegression()"
      ]
     },
     "execution_count": 198,
     "metadata": {},
     "output_type": "execute_result"
    }
   ],
   "source": [
    "X_train, X_test, y_train, y_test= train_test_split(X, y, test_size=0.30, random_state=1)\n",
    "\n",
    "regression_model=LinearRegression()\n",
    "regression_model.fit(X_train, y_train)"
   ]
  },
  {
   "cell_type": "code",
   "execution_count": 199,
   "id": "offensive-elimination",
   "metadata": {},
   "outputs": [
    {
     "name": "stdout",
     "output_type": "stream",
     "text": [
      "Scenario 1: \n",
      "\n",
      "Training Score: 0.9709803472467778\n",
      "\n",
      "Test Score:0.9743445194231669\n",
      "\n",
      "The coefficient for Distance is 0.0026985879692327875\n",
      "The coefficient for Average weekly passengers is -0.003672925373594004\n",
      "The coefficient for Market share - leading is 0.07893130482596344\n",
      "The coefficient for Average fare - leading is 0.7366228373581054\n",
      "The coefficient for Market share - low price is -0.028513579082319343\n",
      "The coefficient for Average fare - low price is 0.22528413482475856\n",
      "\n",
      " The Intercept for regression model for Scenario 1 is 3.912425648539795\n"
     ]
    }
   ],
   "source": [
    "print (\"Scenario 1: \\n\")\n",
    "print (f'Training Score: {regression_model.score(X_train,y_train)}\\n')\n",
    "print (f'Test Score:{regression_model.score(X_test, y_test)}\\n')\n",
    "\n",
    "# Coefficents for each of the indipendent attributes\n",
    "\n",
    "for idx, col_name in enumerate(X_train.columns):\n",
    "    print(\"The coefficient for {} is {}\".format(col_name, regression_model.coef_[0][idx]))\n",
    "\n",
    "# intercepter for the model \n",
    "\n",
    "intercept = regression_model.intercept_[0]\n",
    "\n",
    "print (\"\\n The Intercept for regression model for Scenario 1 is {}\".format(intercept))\n",
    "\n",
    "\n"
   ]
  },
  {
   "cell_type": "markdown",
   "id": "bronze-teens",
   "metadata": {},
   "source": [
    "# Scenario 2 - Considering .1 as only positive correlation"
   ]
  },
  {
   "cell_type": "code",
   "execution_count": 200,
   "id": "spare-cancellation",
   "metadata": {},
   "outputs": [
    {
     "name": "stdout",
     "output_type": "stream",
     "text": [
      "Scenario 2\n",
      "X Shape = (885, 3) y Shape = (885, 1)\n"
     ]
    },
    {
     "data": {
      "text/plain": [
       "LinearRegression()"
      ]
     },
     "execution_count": 200,
     "metadata": {},
     "output_type": "execute_result"
    }
   ],
   "source": [
    "# Average weekly passengers, Market share - leading and Market share - low price has correlation less than .1 \n",
    "# with dependent Variable\n",
    "# Copying all independent variables to X \n",
    "\n",
    "X=X.drop(['Average weekly passengers','Market share - leading','Market share - low price'], axis=1)\n",
    "\n",
    "print ('Scenario 2')\n",
    "\n",
    "print (f\"X Shape = {X.shape} y Shape = {y.shape}\")\n",
    "\n",
    "X_train, X_test, y_train, y_test= train_test_split(X, y, test_size=0.30, random_state=1)\n",
    "\n",
    "regression_model=LinearRegression()\n",
    "regression_model.fit(X_train, y_train)"
   ]
  },
  {
   "cell_type": "code",
   "execution_count": 201,
   "id": "junior-pharmacy",
   "metadata": {},
   "outputs": [
    {
     "data": {
      "text/plain": [
       "0.9695547782563688"
      ]
     },
     "execution_count": 201,
     "metadata": {},
     "output_type": "execute_result"
    }
   ],
   "source": [
    "regression_model.score(X_train, y_train)"
   ]
  },
  {
   "cell_type": "markdown",
   "id": "czech-drawing",
   "metadata": {},
   "source": [
    "#  5. Scatter Plot of Independent Variable vs Dependent Variable."
   ]
  },
  {
   "cell_type": "code",
   "execution_count": 202,
   "id": "incorporate-arbitration",
   "metadata": {},
   "outputs": [
    {
     "data": {
      "text/html": [
       "<div>\n",
       "<style scoped>\n",
       "    .dataframe tbody tr th:only-of-type {\n",
       "        vertical-align: middle;\n",
       "    }\n",
       "\n",
       "    .dataframe tbody tr th {\n",
       "        vertical-align: top;\n",
       "    }\n",
       "\n",
       "    .dataframe thead th {\n",
       "        text-align: right;\n",
       "    }\n",
       "</style>\n",
       "<table border=\"1\" class=\"dataframe\">\n",
       "  <thead>\n",
       "    <tr style=\"text-align: right;\">\n",
       "      <th></th>\n",
       "      <th>Average Fare</th>\n",
       "      <th>Distance</th>\n",
       "      <th>Average weekly passengers</th>\n",
       "      <th>Market share - leading</th>\n",
       "      <th>Average fare - leading</th>\n",
       "      <th>Market share - low price</th>\n",
       "      <th>Average fare - low price</th>\n",
       "    </tr>\n",
       "  </thead>\n",
       "  <tbody>\n",
       "    <tr>\n",
       "      <th>0</th>\n",
       "      <td>114.47</td>\n",
       "      <td>528</td>\n",
       "      <td>424.56</td>\n",
       "      <td>70.19</td>\n",
       "      <td>111.03</td>\n",
       "      <td>70.19</td>\n",
       "      <td>111.03</td>\n",
       "    </tr>\n",
       "    <tr>\n",
       "      <th>1</th>\n",
       "      <td>122.47</td>\n",
       "      <td>860</td>\n",
       "      <td>276.84</td>\n",
       "      <td>75.10</td>\n",
       "      <td>123.09</td>\n",
       "      <td>17.23</td>\n",
       "      <td>118.94</td>\n",
       "    </tr>\n",
       "    <tr>\n",
       "      <th>2</th>\n",
       "      <td>214.42</td>\n",
       "      <td>852</td>\n",
       "      <td>215.76</td>\n",
       "      <td>78.89</td>\n",
       "      <td>223.98</td>\n",
       "      <td>2.77</td>\n",
       "      <td>167.12</td>\n",
       "    </tr>\n",
       "    <tr>\n",
       "      <th>3</th>\n",
       "      <td>69.40</td>\n",
       "      <td>288</td>\n",
       "      <td>606.84</td>\n",
       "      <td>96.97</td>\n",
       "      <td>68.86</td>\n",
       "      <td>96.97</td>\n",
       "      <td>68.86</td>\n",
       "    </tr>\n",
       "    <tr>\n",
       "      <th>4</th>\n",
       "      <td>158.13</td>\n",
       "      <td>723</td>\n",
       "      <td>313.04</td>\n",
       "      <td>39.79</td>\n",
       "      <td>161.36</td>\n",
       "      <td>15.34</td>\n",
       "      <td>145.42</td>\n",
       "    </tr>\n",
       "    <tr>\n",
       "      <th>...</th>\n",
       "      <td>...</td>\n",
       "      <td>...</td>\n",
       "      <td>...</td>\n",
       "      <td>...</td>\n",
       "      <td>...</td>\n",
       "      <td>...</td>\n",
       "      <td>...</td>\n",
       "    </tr>\n",
       "    <tr>\n",
       "      <th>995</th>\n",
       "      <td>136.16</td>\n",
       "      <td>1104</td>\n",
       "      <td>184.34</td>\n",
       "      <td>33.37</td>\n",
       "      <td>135.82</td>\n",
       "      <td>28.65</td>\n",
       "      <td>118.51</td>\n",
       "    </tr>\n",
       "    <tr>\n",
       "      <th>996</th>\n",
       "      <td>83.28</td>\n",
       "      <td>200</td>\n",
       "      <td>232.71</td>\n",
       "      <td>99.57</td>\n",
       "      <td>82.55</td>\n",
       "      <td>99.57</td>\n",
       "      <td>82.55</td>\n",
       "    </tr>\n",
       "    <tr>\n",
       "      <th>997</th>\n",
       "      <td>159.97</td>\n",
       "      <td>814</td>\n",
       "      <td>843.80</td>\n",
       "      <td>46.19</td>\n",
       "      <td>159.65</td>\n",
       "      <td>13.89</td>\n",
       "      <td>159.02</td>\n",
       "    </tr>\n",
       "    <tr>\n",
       "      <th>998</th>\n",
       "      <td>73.57</td>\n",
       "      <td>174</td>\n",
       "      <td>214.45</td>\n",
       "      <td>99.74</td>\n",
       "      <td>73.44</td>\n",
       "      <td>99.74</td>\n",
       "      <td>73.44</td>\n",
       "    </tr>\n",
       "    <tr>\n",
       "      <th>999</th>\n",
       "      <td>126.67</td>\n",
       "      <td>859</td>\n",
       "      <td>475.65</td>\n",
       "      <td>56.28</td>\n",
       "      <td>129.92</td>\n",
       "      <td>38.57</td>\n",
       "      <td>121.94</td>\n",
       "    </tr>\n",
       "  </tbody>\n",
       "</table>\n",
       "<p>885 rows × 7 columns</p>\n",
       "</div>"
      ],
      "text/plain": [
       "     Average Fare  Distance  Average weekly passengers  \\\n",
       "0          114.47       528                     424.56   \n",
       "1          122.47       860                     276.84   \n",
       "2          214.42       852                     215.76   \n",
       "3           69.40       288                     606.84   \n",
       "4          158.13       723                     313.04   \n",
       "..            ...       ...                        ...   \n",
       "995        136.16      1104                     184.34   \n",
       "996         83.28       200                     232.71   \n",
       "997        159.97       814                     843.80   \n",
       "998         73.57       174                     214.45   \n",
       "999        126.67       859                     475.65   \n",
       "\n",
       "     Market share - leading  Average fare - leading  Market share - low price  \\\n",
       "0                     70.19                  111.03                     70.19   \n",
       "1                     75.10                  123.09                     17.23   \n",
       "2                     78.89                  223.98                      2.77   \n",
       "3                     96.97                   68.86                     96.97   \n",
       "4                     39.79                  161.36                     15.34   \n",
       "..                      ...                     ...                       ...   \n",
       "995                   33.37                  135.82                     28.65   \n",
       "996                   99.57                   82.55                     99.57   \n",
       "997                   46.19                  159.65                     13.89   \n",
       "998                   99.74                   73.44                     99.74   \n",
       "999                   56.28                  129.92                     38.57   \n",
       "\n",
       "     Average fare - low price  \n",
       "0                      111.03  \n",
       "1                      118.94  \n",
       "2                      167.12  \n",
       "3                       68.86  \n",
       "4                      145.42  \n",
       "..                        ...  \n",
       "995                    118.51  \n",
       "996                     82.55  \n",
       "997                    159.02  \n",
       "998                     73.44  \n",
       "999                    121.94  \n",
       "\n",
       "[885 rows x 7 columns]"
      ]
     },
     "execution_count": 202,
     "metadata": {},
     "output_type": "execute_result"
    }
   ],
   "source": [
    "# pair plot to understand the relation ship between Average Fare and all other column\n",
    "\n",
    "air_df_attr= air_df_new.iloc[:,0:10]\n",
    "\n",
    "air_df_attr\n"
   ]
  },
  {
   "cell_type": "code",
   "execution_count": 205,
   "id": "designing-kitchen",
   "metadata": {},
   "outputs": [
    {
     "data": {
      "text/plain": [
       "<seaborn.axisgrid.PairGrid at 0x29db8ce90f0>"
      ]
     },
     "execution_count": 205,
     "metadata": {},
     "output_type": "execute_result"
    },
    {
     "data": {
      "image/png": "[encoded data removed]",
      "text/plain": [
       "<Figure size 1080x180 with 6 Axes>"
      ]
     },
     "metadata": {
      "needs_background": "light"
     },
     "output_type": "display_data"
    }
   ],
   "source": [
    "sns.pairplot(air_df_attr, \n",
    "             x_vars=['Distance', 'Average weekly passengers','Market share - leading', \n",
    "                                  'Average fare - leading', 'Market share - low price' \n",
    "                                  ,'Average fare - low price' ], \n",
    "             y_vars=['Average Fare'], diag_kind='kde')"
   ]
  },
  {
   "cell_type": "markdown",
   "id": "meaningful-boring",
   "metadata": {},
   "source": [
    " 7. Coefficient and Intercept of Linear Model for Scenario 2"
   ]
  },
  {
   "cell_type": "code",
   "execution_count": 206,
   "id": "occupied-observer",
   "metadata": {},
   "outputs": [
    {
     "name": "stdout",
     "output_type": "stream",
     "text": [
      "The coefficient for Distance is 0.0016617876065931519\n",
      "The coefficient for Average fare - leading is 0.7555063053685087\n",
      "The coefficient for Average fare - low price is 0.2119699425833675\n"
     ]
    }
   ],
   "source": [
    "# coefficients for each of the independent attributes\n",
    "\n",
    "for idx, col_name in enumerate (X_train.columns):\n",
    "    print (\"The coefficient for {} is {}\".format(col_name, regression_model.coef_[0][idx]))"
   ]
  },
  {
   "cell_type": "code",
   "execution_count": null,
   "id": "further-negotiation",
   "metadata": {},
   "outputs": [],
   "source": []
  },
  {
   "cell_type": "code",
   "execution_count": null,
   "id": "individual-owner",
   "metadata": {},
   "outputs": [],
   "source": []
  }
 ],
 "metadata": {
  "kernelspec": {
   "display_name": "Python 3",
   "language": "python",
   "name": "python3"
  },
  "language_info": {
   "codemirror_mode": {
    "name": "ipython",
    "version": 3
   },
   "file_extension": ".py",
   "mimetype": "text/x-python",
   "name": "python",
   "nbconvert_exporter": "python",
   "pygments_lexer": "ipython3",
   "version": "3.6.5"
  }
 },
 "nbformat": 4,
 "nbformat_minor": 5
}
