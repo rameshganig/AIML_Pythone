{
 "cells": [
  {
   "cell_type": "code",
   "execution_count": 1,
   "id": "systematic-woman",
   "metadata": {},
   "outputs": [],
   "source": [
    "%matplotlib inline"
   ]
  },
  {
   "cell_type": "code",
   "execution_count": 7,
   "id": "human-tumor",
   "metadata": {},
   "outputs": [
    {
     "name": "stdout",
     "output_type": "stream",
     "text": [
      "Automatically created module for IPython interactive environment\n"
     ]
    }
   ],
   "source": [
    "from __future__ import print_function\n",
    "\n",
    "from sklearn.datasets import make_blobs\n",
    "from sklearn.cluster import KMeans\n",
    "from sklearn.metrics import silhouette_samples, silhouette_score\n",
    "\n",
    "import matplotlib.pyplot as plt\n",
    "import matplotlib.cm as cm\n",
    "import numpy as np\n",
    "\n",
    "print(__doc__)\n",
    "\n",
    "#Generating the sample from make_blobs\n",
    "#this perticular setting has one distinct cluster and 3 clusters placed close \n",
    "# together\n",
    "\n",
    "X, y = make_blobs(n_samples=500,\n",
    "                  n_features=2, \n",
    "                  centers =4, \n",
    "                  cluster_std=1, \n",
    "                  center_box=(10.0, 10.0), \n",
    "                  shuffle=True, \n",
    "                  random_state=1)# For Reproducebality\n",
    "\n",
    "range_n_clusters = [2,3,4,5,6]"
   ]
  },
  {
   "cell_type": "code",
   "execution_count": null,
   "id": "cleared-psychiatry",
   "metadata": {},
   "outputs": [],
   "source": []
  }
 ],
 "metadata": {
  "kernelspec": {
   "display_name": "Python 3",
   "language": "python",
   "name": "python3"
  },
  "language_info": {
   "codemirror_mode": {
    "name": "ipython",
    "version": 3
   },
   "file_extension": ".py",
   "mimetype": "text/x-python",
   "name": "python",
   "nbconvert_exporter": "python",
   "pygments_lexer": "ipython3",
   "version": "3.6.5"
  }
 },
 "nbformat": 4,
 "nbformat_minor": 5
}
